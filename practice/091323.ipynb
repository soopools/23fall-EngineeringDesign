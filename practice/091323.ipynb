{
 "cells": [
  {
   "cell_type": "code",
   "execution_count": 10,
   "metadata": {},
   "outputs": [
    {
     "name": "stdout",
     "output_type": "stream",
     "text": [
      "hello\n"
     ]
    }
   ],
   "source": [
    "print (\"hello\")"
   ]
  },
  {
   "cell_type": "code",
   "execution_count": 6,
   "metadata": {},
   "outputs": [
    {
     "name": "stdout",
     "output_type": "stream",
     "text": [
      "100\n",
      "hello world\n"
     ]
    }
   ],
   "source": [
    "a = 100\n",
    "print (a)\n",
    "print ('hello world')"
   ]
  },
  {
   "cell_type": "code",
   "execution_count": 15,
   "metadata": {},
   "outputs": [
    {
     "name": "stdout",
     "output_type": "stream",
     "text": [
      "[100, '가', '나', 333]\n",
      "[100, 100, 100]\n",
      "나\n"
     ]
    }
   ],
   "source": [
    "#list \n",
    "a = [100]\n",
    "b = ['가', '나', 333]\n",
    "\n",
    "print (a+b)\n",
    "print (a*3)\n",
    "print (b[1])"
   ]
  },
  {
   "cell_type": "markdown",
   "metadata": {},
   "source": [
    "현재까지:\n",
    "1. 변수의 선언, 조회\n",
    "2. 배열 선언, 원소 조회\n",
    "\n",
    "--\n",
    "- 반복문 (for, while)\n",
    "- 조건문 (if, elseif, else)\n",
    "- 연산자 (c: +*-/, py: +*%/-)\n",
    "- 함수 def\n",
    "    : 중괄호 없음, 그런데 들여쓰기 간격은 일관되게 해야 함"
   ]
  },
  {
   "cell_type": "code",
   "execution_count": 23,
   "metadata": {},
   "outputs": [
    {
     "name": "stdout",
     "output_type": "stream",
     "text": [
      "44850\n"
     ]
    }
   ],
   "source": [
    "# 1-1 이렇게 돌리면 에러 난다: sum 값을 안 지정해 줘서 !\n",
    "# for i in range (0, N):\n",
    "#     sum = sum + i\n",
    "\n",
    "# !! 반복문 !! #\n",
    "sum = 0\n",
    "N = 300\n",
    "\n",
    "for i in range (0, N):\n",
    "    sum = sum + i\n",
    "\n",
    "print(sum)\n",
    "\n",
    "# 파이썬은 세미콜론도 안 쓰구 .. 들여쓰기만 신경쓰기    "
   ]
  },
  {
   "cell_type": "code",
   "execution_count": 25,
   "metadata": {},
   "outputs": [
    {
     "name": "stdout",
     "output_type": "stream",
     "text": [
      "[0, 1, 2, 3, 4, 5, 6, 7, 8, 9, 10, 11, 12, 13, 14, 15, 16, 17, 18, 19, 20, 21, 22, 23, 24, 25, 26, 27, 28, 29, 30, 31, 32, 33, 34, 35, 36, 37, 38, 39, 40, 41, 42, 43, 44, 45, 46, 47, 48, 49, 50, 51, 52, 53, 54, 55, 56, 57, 58, 59, 60, 61, 62, 63, 64, 65, 66, 67, 68, 69, 70, 71, 72, 73, 74, 75, 76, 77, 78, 79, 80, 81, 82, 83, 84, 85, 86, 87, 88, 89, 90, 91, 92, 93, 94, 95, 96, 97, 98, 99, 100, 101, 102, 103, 104, 105, 106, 107, 108, 109, 110, 111, 112, 113, 114, 115, 116, 117, 118, 119, 120, 121, 122, 123, 124, 125, 126, 127, 128, 129, 130, 131, 132, 133, 134, 135, 136, 137, 138, 139, 140, 141, 142, 143, 144, 145, 146, 147, 148, 149, 150, 151, 152, 153, 154, 155, 156, 157, 158, 159, 160, 161, 162, 163, 164, 165, 166, 167, 168, 169, 170, 171, 172, 173, 174, 175, 176, 177, 178, 179, 180, 181, 182, 183, 184, 185, 186, 187, 188, 189, 190, 191, 192, 193, 194, 195, 196, 197, 198, 199, 200, 201, 202, 203, 204, 205, 206, 207, 208, 209, 210, 211, 212, 213, 214, 215, 216, 217, 218, 219, 220, 221, 222, 223, 224, 225, 226, 227, 228, 229, 230, 231, 232, 233, 234, 235, 236, 237, 238, 239, 240, 241, 242, 243, 244, 245, 246, 247, 248, 249, 250, 251, 252, 253, 254, 255, 256, 257, 258, 259, 260, 261, 262, 263, 264, 265, 266, 267, 268, 269, 270, 271, 272, 273, 274, 275, 276, 277, 278, 279, 280, 281, 282, 283, 284, 285, 286, 287, 288, 289, 290, 291, 292, 293, 294, 295, 296, 297, 298, 299]\n"
     ]
    }
   ],
   "source": [
    "# 1-2 반복문\n",
    "\n",
    "sum=0\n",
    "n=500\n",
    "\n",
    "for i in range (0, N):\n",
    "    sum = sum + i\n",
    "\n",
    "print (list(range(0,N)))"
   ]
  },
  {
   "cell_type": "code",
   "execution_count": 27,
   "metadata": {},
   "outputs": [
    {
     "name": "stdout",
     "output_type": "stream",
     "text": [
      "12\n"
     ]
    }
   ],
   "source": [
    "# 1-3 반복문\n",
    "\n",
    "sum = 0\n",
    "N = 5\n",
    "\n",
    "# print (list (range (0, N)))\n",
    "list = [0, 2, 4, 6]\n",
    "# for i in range (list(0, N))\n",
    "for i in list:\n",
    "    sum = sum+i\n",
    "print (sum)"
   ]
  },
  {
   "cell_type": "code",
   "execution_count": 32,
   "metadata": {},
   "outputs": [
    {
     "name": "stdout",
     "output_type": "stream",
     "text": [
      "9010\n"
     ]
    }
   ],
   "source": [
    "# 1-4 조건문\n",
    "\n",
    "a = 8 - (3*2) - (1+1)\n",
    "\n",
    "if a>10:\n",
    "    print (a)\n",
    "\n",
    "elif a<0: # c에서는 switch 함수가 있었지만 python에서는 elif 여러 개 써주면 됨\n",
    "    print(-100)\n",
    "\n",
    "else: \n",
    "    print (a+9010)"
   ]
  },
  {
   "cell_type": "code",
   "execution_count": 39,
   "metadata": {},
   "outputs": [
    {
     "name": "stdout",
     "output_type": "stream",
     "text": [
      "1 2 3\n",
      "0\n"
     ]
    }
   ],
   "source": [
    "# function example for C language\n",
    "\n",
    "# int function (int a)\n",
    "# { \n",
    "#     a += 100;\n",
    "#     return 0;\n",
    "# }\n",
    "\n",
    "list = input()\n",
    "\n",
    "def Summation_wud():\n",
    "    for i in range(0, len(list)):\n",
    "        result = result + list[i]\n",
    "\n",
    "print (list)\n",
    "result = def Summation_wud(list):\n",
    "print (result)"
   ]
  },
  {
   "cell_type": "code",
   "execution_count": 80,
   "metadata": {},
   "outputs": [
    {
     "name": "stdout",
     "output_type": "stream",
     "text": [
      "499500\n"
     ]
    }
   ],
   "source": [
    "#define function for Summation\n",
    "# n_st: number to start summing,\n",
    "# n_ed: number to end summation\n",
    "\n",
    "def Summation(n_st, n_ed):\n",
    "    sum = 0 #initialize sum\n",
    "    for i in range(n_st, n_ed): # iteratively add numbers\n",
    "        sum = sum+i\n",
    "    return sum\n",
    "    \n",
    "c = Summation(0, 1000)\n",
    "print (c)"
   ]
  },
  {
   "cell_type": "markdown",
   "metadata": {},
   "source": [
    "python library\n",
    "\n",
    "* important packages - scikit-image.org"
   ]
  },
  {
   "cell_type": "code",
   "execution_count": null,
   "metadata": {},
   "outputs": [],
   "source": [
    "# important skimage.io as skio\n",
    "# https://scikit-image.org/docs/stable/user_guide/getting_started.html\n",
    "# https://yunwoong.tistory.com/48\n",
    "\n",
    "# 외부 패키지 코드 이용하여 \n",
    "import skimage\n",
    "from skimage import io\n",
    "from matplotlib import pyplot as plt\n",
    "\n",
    "img = io.imread(\"/usr/\") # 경로\n",
    "\n",
    "plt.imshow (img)"
   ]
  },
  {
   "cell_type": "code",
   "execution_count": 76,
   "metadata": {},
   "outputs": [
    {
     "ename": "KeyError",
     "evalue": "'colorwheel is not a valid rc parameter (see rcParams.keys() for a list of valid parameters)'",
     "output_type": "error",
     "traceback": [
      "\u001b[0;31m---------------------------------------------------------------------------\u001b[0m",
      "\u001b[0;31mKeyError\u001b[0m                                  Traceback (most recent call last)",
      "File \u001b[0;32m~/Library/Python/3.8/lib/python/site-packages/matplotlib/__init__.py:720\u001b[0m, in \u001b[0;36mRcParams.__setitem__\u001b[0;34m(self, key, val)\u001b[0m\n\u001b[1;32m    719\u001b[0m \u001b[39mtry\u001b[39;00m:\n\u001b[0;32m--> 720\u001b[0m     cval \u001b[39m=\u001b[39m \u001b[39mself\u001b[39;49m\u001b[39m.\u001b[39;49mvalidate[key](val)\n\u001b[1;32m    721\u001b[0m \u001b[39mexcept\u001b[39;00m \u001b[39mValueError\u001b[39;00m \u001b[39mas\u001b[39;00m ve:\n",
      "\u001b[0;31mKeyError\u001b[0m: 'colorwheel'",
      "\nThe above exception was the direct cause of the following exception:\n",
      "\u001b[0;31mKeyError\u001b[0m                                  Traceback (most recent call last)",
      "\u001b[1;32m/Users/kaya/Desktop/kookmin univ/Engineering Design/Untitled-1.ipynb Cell 13\u001b[0m line \u001b[0;36m7\n\u001b[1;32m      <a href='vscode-notebook-cell:/Users/kaya/Desktop/kookmin%20univ/Engineering%20Design/Untitled-1.ipynb#X33sZmlsZQ%3D%3D?line=2'>3</a>\u001b[0m \u001b[39mimport\u001b[39;00m \u001b[39mnumpy\u001b[39;00m \u001b[39mas\u001b[39;00m \u001b[39mnp\u001b[39;00m\n\u001b[1;32m      <a href='vscode-notebook-cell:/Users/kaya/Desktop/kookmin%20univ/Engineering%20Design/Untitled-1.ipynb#X33sZmlsZQ%3D%3D?line=4'>5</a>\u001b[0m \u001b[39mfrom\u001b[39;00m \u001b[39mskimage\u001b[39;00m \u001b[39mimport\u001b[39;00m data\n\u001b[0;32m----> <a href='vscode-notebook-cell:/Users/kaya/Desktop/kookmin%20univ/Engineering%20Design/Untitled-1.ipynb#X33sZmlsZQ%3D%3D?line=6'>7</a>\u001b[0m matplotlib\u001b[39m.\u001b[39;49mrcParams[\u001b[39m'\u001b[39;49m\u001b[39mcolorwheel\u001b[39;49m\u001b[39m'\u001b[39;49m] \u001b[39m=\u001b[39m \u001b[39m18\u001b[39m\n\u001b[1;32m      <a href='vscode-notebook-cell:/Users/kaya/Desktop/kookmin%20univ/Engineering%20Design/Untitled-1.ipynb#X33sZmlsZQ%3D%3D?line=8'>9</a>\u001b[0m images \u001b[39m=\u001b[39m (\u001b[39m'\u001b[39m\u001b[39mcolorwheel\u001b[39m\u001b[39m'\u001b[39m)\n\u001b[1;32m     <a href='vscode-notebook-cell:/Users/kaya/Desktop/kookmin%20univ/Engineering%20Design/Untitled-1.ipynb#X33sZmlsZQ%3D%3D?line=11'>12</a>\u001b[0m \u001b[39mfor\u001b[39;00m name \u001b[39min\u001b[39;00m images:\n",
      "File \u001b[0;32m~/Library/Python/3.8/lib/python/site-packages/matplotlib/__init__.py:725\u001b[0m, in \u001b[0;36mRcParams.__setitem__\u001b[0;34m(self, key, val)\u001b[0m\n\u001b[1;32m    723\u001b[0m     \u001b[39mself\u001b[39m\u001b[39m.\u001b[39m_set(key, cval)\n\u001b[1;32m    724\u001b[0m \u001b[39mexcept\u001b[39;00m \u001b[39mKeyError\u001b[39;00m \u001b[39mas\u001b[39;00m err:\n\u001b[0;32m--> 725\u001b[0m     \u001b[39mraise\u001b[39;00m \u001b[39mKeyError\u001b[39;00m(\n\u001b[1;32m    726\u001b[0m         \u001b[39mf\u001b[39m\u001b[39m\"\u001b[39m\u001b[39m{\u001b[39;00mkey\u001b[39m}\u001b[39;00m\u001b[39m is not a valid rc parameter (see rcParams.keys() for \u001b[39m\u001b[39m\"\u001b[39m\n\u001b[1;32m    727\u001b[0m         \u001b[39mf\u001b[39m\u001b[39m\"\u001b[39m\u001b[39ma list of valid parameters)\u001b[39m\u001b[39m\"\u001b[39m) \u001b[39mfrom\u001b[39;00m \u001b[39merr\u001b[39;00m\n",
      "\u001b[0;31mKeyError\u001b[0m: 'colorwheel is not a valid rc parameter (see rcParams.keys() for a list of valid parameters)'"
     ]
    }
   ],
   "source": [
    "#https://scikit-image.org/docs/stable/auto_examples/data/plot_general.html\n",
    "\n",
    "import matplotlib.pyplot as plt\n",
    "import matplotlib\n",
    "import numpy as np\n",
    "\n",
    "from skimage import data\n",
    "\n",
    "matplotlib.rcParams['colorwheel'] = 18\n",
    "\n",
    "images = ('colorwheel')\n",
    "\n",
    "\n",
    "for name in images:\n",
    "    caller = getattr(data, name)\n",
    "    image = caller()\n",
    "    plt.figure()\n",
    "    plt.title(name)\n",
    "    if image.ndim == 2:\n",
    "        plt.imshow(image, cmap=plt.cm.gray)\n",
    "    else:\n",
    "        plt.imshow(image)\n",
    "\n",
    "plt.show()"
   ]
  },
  {
   "cell_type": "code",
   "execution_count": 2,
   "metadata": {},
   "outputs": [
    {
     "ename": "ModuleNotFoundError",
     "evalue": "No module named 'skimage'",
     "output_type": "error",
     "traceback": [
      "\u001b[0;31m---------------------------------------------------------------------------\u001b[0m",
      "\u001b[0;31mModuleNotFoundError\u001b[0m                       Traceback (most recent call last)",
      "\u001b[1;32m/Users/jiyoung/Desktop/univ/Engineering Design/091323.ipynb Cell 14\u001b[0m line \u001b[0;36m1\n\u001b[0;32m----> <a href='vscode-notebook-cell:/Users/jiyoung/Desktop/univ/Engineering%20Design/091323.ipynb#X16sZmlsZQ%3D%3D?line=0'>1</a>\u001b[0m \u001b[39mfrom\u001b[39;00m \u001b[39mskimage\u001b[39;00m \u001b[39mimport\u001b[39;00m io\n\u001b[1;32m      <a href='vscode-notebook-cell:/Users/jiyoung/Desktop/univ/Engineering%20Design/091323.ipynb#X16sZmlsZQ%3D%3D?line=1'>2</a>\u001b[0m \u001b[39mfrom\u001b[39;00m \u001b[39mmatplotlib\u001b[39;00m \u001b[39mimport\u001b[39;00m pyplot \u001b[39mas\u001b[39;00m plt\n\u001b[1;32m      <a href='vscode-notebook-cell:/Users/jiyoung/Desktop/univ/Engineering%20Design/091323.ipynb#X16sZmlsZQ%3D%3D?line=3'>4</a>\u001b[0m img \u001b[39m=\u001b[39m io\u001b[39m.\u001b[39mimread(data\u001b[39m.\u001b[39mcat())\n",
      "\u001b[0;31mModuleNotFoundError\u001b[0m: No module named 'skimage'"
     ]
    }
   ],
   "source": [
    "from skimage import io\n",
    "from matplotlib import pyplot as plt\n",
    "\n",
    "img = io.imread(data.cat())\n",
    "io.imshow(img)\n",
    "plt.show()"
   ]
  }
 ],
 "metadata": {
  "kernelspec": {
   "display_name": "Python 3",
   "language": "python",
   "name": "python3"
  },
  "language_info": {
   "codemirror_mode": {
    "name": "ipython",
    "version": 3
   },
   "file_extension": ".py",
   "mimetype": "text/x-python",
   "name": "python",
   "nbconvert_exporter": "python",
   "pygments_lexer": "ipython3",
   "version": "3.8.17"
  },
  "orig_nbformat": 4
 },
 "nbformat": 4,
 "nbformat_minor": 2
}
