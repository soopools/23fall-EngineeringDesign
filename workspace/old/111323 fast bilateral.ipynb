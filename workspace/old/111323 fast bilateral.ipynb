{
 "cells": [
  {
   "cell_type": "code",
   "execution_count": 8,
   "metadata": {},
   "outputs": [],
   "source": [
    "import numpy as np\n",
    "from skimage import io\n",
    "from skimage.util import random_noise\n",
    "from skimage.metrics import peak_signal_noise_ratio\n",
    "from matplotlib import pyplot as plt\n",
    "from skimage.metrics import peak_signal_noise_ratio, structural_similarity\n",
    "from skimage.transform import resize\n",
    "from numba import jit, float32"
   ]
  },
  {
   "cell_type": "code",
   "execution_count": 9,
   "metadata": {},
   "outputs": [],
   "source": [
    "noisy_img = io.imread (\"/Users/jiyoung/Desktop/univ/'23-2/Engineering Design/workspace/dog_noisy.png\")\n",
    "clean_img = io.imread (\"/Users/jiyoung/Desktop/univ/'23-2/Engineering Design/workspace/dog.png\")"
   ]
  },
  {
   "cell_type": "code",
   "execution_count": 10,
   "metadata": {},
   "outputs": [],
   "source": [
    "# # Gaussian Filter\n",
    "# def gaussian_kernel(k_size, sigma):\n",
    "#     size = k_size//2\n",
    "#     y, x = np.ogrid[-size:size+1, -size:size+1]\n",
    "#     filter = 1/(2*np.pi * (sigma**2)) * np.exp(-1 *(x**2 + y**2) /(2*(sigma**2)))\n",
    "#     sum = filter.sum()\n",
    "#     filter /= sum\n",
    "#     return filter\n",
    "\n",
    "@jit(nopython=True)\n",
    "def gaussian_kernel(k_size, sigma):\n",
    "    size = k_size // 2\n",
    "    x, y = np.meshgrid(np.arange(-size, size+1), np.arange(-size, size+1))\n",
    "    filter = np.exp(-(x**2 + y**2) / (2 * sigma**2)) / (2 * np.pi * sigma**2)\n",
    "    filter /= np.sum(filter)\n",
    "    return filter\n"
   ]
  },
  {
   "cell_type": "code",
   "execution_count": 12,
   "metadata": {},
   "outputs": [
    {
     "name": "stdout",
     "output_type": "stream",
     "text": [
      "Median Filter PSNR:  24.232556569383526\n"
     ]
    },
    {
     "name": "stderr",
     "output_type": "stream",
     "text": [
      "/var/folders/n1/t3hm6b612gg69mlfjrdv4ht00000gn/T/ipykernel_226/875877441.py:22: UserWarning: Inputs have mismatched dtype.  Setting data_range based on image_true.\n",
      "  print(\"Median Filter PSNR: \", peak_signal_noise_ratio(clean_img, median_img_resized))\n"
     ]
    }
   ],
   "source": [
    "# Median Filter\n",
    "def median_filter(noisy_img, filter_size=(3, 3), stride=1):\n",
    "    img_shape = np.shape(noisy_img)\n",
    "    result_shape = tuple(np.int64((np.array(img_shape[:2]) - np.array(filter_size)) / stride) + 1) + (img_shape[2],)\n",
    "    result = np.zeros(result_shape)\n",
    "\n",
    "    for h in range(0, result_shape[0], stride):\n",
    "        for w in range(0, result_shape[1], stride):\n",
    "            for c in range(img_shape[2]):\n",
    "                tmp = noisy_img[h:h + filter_size[0], w:w + filter_size[1], c].ravel()\n",
    "                tmp = np.sort(tmp)\n",
    "                result[h, w, c] = tmp[int(len(tmp) / 2)]\n",
    "\n",
    "    return result\n",
    "\n",
    "# median_filtered_image = median_filter(noisy_img)\n",
    "# # #plt.imsave('median_filtered_image.png', median_filtered_image)\n",
    "# plt.imshow(median_filtered_image)\n",
    "\n",
    "median_filtered_img = median_filter(bilateral_median_img)\n",
    "median_img_resized = resize ( median_filtered_img, clean_img.shape, mode = 'constant', anti_aliasing=True )\n",
    "print(\"Median Filter PSNR: \", peak_signal_noise_ratio(clean_img, median_img_resized))"
   ]
  },
  {
   "cell_type": "code",
   "execution_count": 31,
   "metadata": {},
   "outputs": [
    {
     "name": "stderr",
     "output_type": "stream",
     "text": [
      "/var/folders/n1/t3hm6b612gg69mlfjrdv4ht00000gn/T/ipykernel_99499/895788856.py:29: RuntimeWarning: overflow encountered in ubyte_scalars\n",
      "  weight_intensity = np.exp(-(intensity_center - intensity_neighbor)**2 / (2 * sigma_intensity**2))\n"
     ]
    }
   ],
   "source": [
    "def bilateral_filter_optimized(noisy_img, k_size=5, sigma_space=4, sigma_intensity=0.5):\n",
    "    h, w, ch = noisy_img.shape\n",
    "    bilateral_noisy_img = np.zeros((h, w, ch))\n",
    "\n",
    "    # Precompute spatial filter\n",
    "    spatial_filter = gaussian_kernel(k_size, sigma_space)\n",
    "\n",
    "    for c in range(ch):\n",
    "        for i in range(h):\n",
    "            for j in range(w):\n",
    "                intensity_center = noisy_img[i, j, c]\n",
    "\n",
    "                weighted_sum = 0.0\n",
    "                normalization_factor = 0.0\n",
    "\n",
    "                # Cache indices outside the inner loop\n",
    "                i_range = range(max(0, i - k_size//2), min(h, i + k_size//2 + 1))\n",
    "                j_range = range(max(0, j - k_size//2), min(w, j + k_size//2 + 1))\n",
    "\n",
    "                for m in range(-k_size//2, k_size//2 + 1):\n",
    "                    for n in range(-k_size//2, k_size//2 + 1):\n",
    "                        i_neighbor = i + m\n",
    "                        j_neighbor = j + n\n",
    "                        \n",
    "                        if i_neighbor in i_range and j_neighbor in j_range:\n",
    "                            intensity_neighbor = noisy_img[i_neighbor, j_neighbor, c]\n",
    "                            \n",
    "                            # 강도 차이에 대한 가중치\n",
    "                            weight_intensity = np.exp(-(intensity_center - intensity_neighbor)**2 / (2 * sigma_intensity**2))\n",
    "                            \n",
    "                            # 공간적인 가우시안 필터 적용\n",
    "                            weight_spatial = spatial_filter[m + k_size//2, n + k_size//2]\n",
    "                            \n",
    "                            # 각 픽셀에 대한 가중치를 누적\n",
    "                            weight = weight_intensity * weight_spatial\n",
    "                            weighted_sum += intensity_neighbor * weight\n",
    "                            normalization_factor += weight\n",
    "                \n",
    "                # 정규화된 결과를 저장\n",
    "                bilateral_noisy_img[i, j, c] = weighted_sum / normalization_factor\n",
    "    \n",
    "    return bilateral_noisy_img\n",
    "\n",
    "bilateral_median_img = bilateral_filter_optimized(noisy_img)\n",
    "print(\"PSNR: \", peak_signal_noise_ratio(clean_img, bilateral_median_img))"
   ]
  },
  {
   "cell_type": "code",
   "execution_count": 4,
   "metadata": {},
   "outputs": [
    {
     "name": "stdout",
     "output_type": "stream",
     "text": [
      "Median Filter PSNR:  24.238725052448054\n"
     ]
    },
    {
     "name": "stderr",
     "output_type": "stream",
     "text": [
      "/var/folders/n1/t3hm6b612gg69mlfjrdv4ht00000gn/T/ipykernel_99499/875877441.py:22: UserWarning: Inputs have mismatched dtype.  Setting data_range based on image_true.\n",
      "  print(\"Median Filter PSNR: \", peak_signal_noise_ratio(clean_img, median_img_resized))\n"
     ]
    }
   ],
   "source": [
    "# Median Filter\n",
    "def median_filter(noisy_img, filter_size=(3, 3), stride=1):\n",
    "    img_shape = np.shape(noisy_img)\n",
    "    result_shape = tuple(np.int64((np.array(img_shape[:2]) - np.array(filter_size)) / stride) + 1) + (img_shape[2],)\n",
    "    result = np.zeros(result_shape)\n",
    "\n",
    "    for h in range(0, result_shape[0], stride):\n",
    "        for w in range(0, result_shape[1], stride):\n",
    "            for c in range(img_shape[2]):\n",
    "                tmp = noisy_img[h:h + filter_size[0], w:w + filter_size[1], c].ravel()\n",
    "                tmp = np.sort(tmp)\n",
    "                result[h, w, c] = tmp[int(len(tmp) / 2)]\n",
    "\n",
    "    return result\n",
    "\n",
    "# median_filtered_image = median_filter(noisy_img)\n",
    "# # #plt.imsave('median_filtered_image.png', median_filtered_image)\n",
    "# plt.imshow(median_filtered_image)\n",
    "\n",
    "median_filtered_img = median_filter(bilateral_median_img)\n",
    "median_img_resized = resize ( median_filtered_img, clean_img.shape, mode = 'constant', anti_aliasing=True )\n",
    "print(\"Median Filter PSNR: \", peak_signal_noise_ratio(clean_img, median_img_resized))"
   ]
  },
  {
   "cell_type": "code",
   "execution_count": 11,
   "metadata": {},
   "outputs": [
    {
     "name": "stdout",
     "output_type": "stream",
     "text": [
      "PSNR:  15.480750332985275\n"
     ]
    },
    {
     "name": "stderr",
     "output_type": "stream",
     "text": [
      "/var/folders/n1/t3hm6b612gg69mlfjrdv4ht00000gn/T/ipykernel_226/2492565275.py:46: UserWarning: Inputs have mismatched dtype.  Setting data_range based on image_true.\n",
      "  print(\"PSNR: \", peak_signal_noise_ratio(clean_img, bilateral_median_img))\n"
     ]
    }
   ],
   "source": [
    "# Bilateral Filter with Vectorization and Numba JIT\n",
    "@jit(nopython=True)\n",
    "def bilateral_filter_optimized(noisy_img, k_size=5, sigma_space=4, sigma_intensity=0.5):\n",
    "    h, w, ch = noisy_img.shape\n",
    "    bilateral_noisy_img = np.zeros((h, w, ch))\n",
    "\n",
    "    # Precompute spatial filter\n",
    "    spatial_filter = np.zeros((k_size, k_size))\n",
    "    for m in range(-k_size//2, k_size//2 + 1):\n",
    "        for n in range(-k_size//2, k_size//2 + 1):\n",
    "            spatial_filter[m + k_size//2, n + k_size//2] = np.exp(-(m**2 + n**2) / (2 * sigma_space**2))\n",
    "\n",
    "    for c in range(ch):\n",
    "        for i in range(h):\n",
    "            for j in range(w):\n",
    "                intensity_center = noisy_img[i, j, c]\n",
    "\n",
    "                weighted_sum = 0.0\n",
    "                normalization_factor = 0.0\n",
    "\n",
    "                for m in range(-k_size//2, k_size//2 + 1):\n",
    "                    for n in range(-k_size//2, k_size//2 + 1):\n",
    "                        i_neighbor = i + m\n",
    "                        j_neighbor = j + n\n",
    "\n",
    "                        if 0 <= i_neighbor < h and 0 <= j_neighbor < w:\n",
    "                            intensity_neighbor = noisy_img[i_neighbor, j_neighbor, c]\n",
    "\n",
    "                            # 강도 차이에 대한 가중치\n",
    "                            weight_intensity = np.exp(-(intensity_center - intensity_neighbor)**2 / (2 * sigma_intensity**2))\n",
    "\n",
    "                            # 공간적인 가우시안 필터 적용\n",
    "                            weight_spatial = spatial_filter[m + k_size//2, n + k_size//2]\n",
    "\n",
    "                            # 각 픽셀에 대한 가중치를 누적\n",
    "                            weight = weight_intensity * weight_spatial\n",
    "                            weighted_sum += intensity_neighbor * weight\n",
    "                            normalization_factor += weight\n",
    "\n",
    "                # 정규화된 결과를 저장\n",
    "                bilateral_noisy_img[i, j, c] = weighted_sum / normalization_factor\n",
    "\n",
    "    return bilateral_noisy_img\n",
    "\n",
    "bilateral_median_img = bilateral_filter_optimized(noisy_img)\n",
    "print(\"PSNR: \", peak_signal_noise_ratio(clean_img, bilateral_median_img))"
   ]
  }
 ],
 "metadata": {
  "kernelspec": {
   "display_name": "3.8",
   "language": "python",
   "name": "python3"
  },
  "language_info": {
   "codemirror_mode": {
    "name": "ipython",
    "version": 3
   },
   "file_extension": ".py",
   "mimetype": "text/x-python",
   "name": "python",
   "nbconvert_exporter": "python",
   "pygments_lexer": "ipython3",
   "version": "3.8.17"
  }
 },
 "nbformat": 4,
 "nbformat_minor": 2
}
